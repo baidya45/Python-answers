{
 "cells": [
  {
   "cell_type": "code",
   "execution_count": 1,
   "id": "ecd35aa1-cab9-484c-b4e0-f9b1bcb56cef",
   "metadata": {},
   "outputs": [
    {
     "name": "stdin",
     "output_type": "stream",
     "text": [
      "enter the percentage 67.4\n"
     ]
    },
    {
     "name": "stdout",
     "output_type": "stream",
     "text": [
      "Grade is C\n"
     ]
    }
   ],
   "source": [
    "marks = float(input(\"enter the percentage\"))\n",
    "if marks > 90 :\n",
    "    print(\"Grade is A\")\n",
    "elif marks >80 and marks <=90 :\n",
    "    print(\"Grade is B\")\n",
    "elif marks >=60 and marks <=80 :\n",
    "    print(\"Grade is C\")\n",
    "else :\n",
    "    print(\"Grade is D\")"
   ]
  },
  {
   "cell_type": "code",
   "execution_count": 2,
   "id": "7b917525-ee4c-4287-9479-0cb9846dc206",
   "metadata": {},
   "outputs": [
    {
     "name": "stdin",
     "output_type": "stream",
     "text": [
      "enter the cost price 320000\n"
     ]
    },
    {
     "name": "stdout",
     "output_type": "stream",
     "text": [
      "Road tax is 48000.0\n"
     ]
    }
   ],
   "source": [
    "price = float(input(\"enter the cost price\"))\n",
    "if price > 100000 :\n",
    "    print(\"Road tax is \"+str(price*0.15))\n",
    "elif price >50000 and price <=100000 :\n",
    "    print(\"Road tax is \"+str(price*0.10))\n",
    "else :\n",
    "    print(\"Road tax is \"+str(price*0.05))"
   ]
  },
  {
   "cell_type": "code",
   "execution_count": 3,
   "id": "ba59f49b-6a4e-4a75-a6f0-e0b3b3473802",
   "metadata": {},
   "outputs": [
    {
     "name": "stdin",
     "output_type": "stream",
     "text": [
      "Enter the city name  Delhi\n"
     ]
    },
    {
     "name": "stdout",
     "output_type": "stream",
     "text": [
      "Red Fort\n"
     ]
    }
   ],
   "source": [
    "city = input(\"Enter the city name \")\n",
    "if city == 'delhi' or city == 'Delhi' :\n",
    "    print(\"Red Fort\")\n",
    "elif city == 'agra' or city == 'Agra' :\n",
    "    print('Taj Mahal')\n",
    "elif city == 'jaipur' or city == 'Jaipur' :\n",
    "    print('Jai Mahal')"
   ]
  },
  {
   "cell_type": "code",
   "execution_count": 4,
   "id": "7ea494ee-6da5-4e52-b9d1-b72ffc6c77ea",
   "metadata": {},
   "outputs": [
    {
     "name": "stdin",
     "output_type": "stream",
     "text": [
      "Enter the number 56\n"
     ]
    },
    {
     "name": "stdout",
     "output_type": "stream",
     "text": [
      "The number can be divided by three 2 times\n"
     ]
    }
   ],
   "source": [
    "num = int(input(\"Enter the number\"))\n",
    "i=0\n",
    "while num > 10 :\n",
    "    i+=1\n",
    "    num/=3\n",
    "\n",
    "print(\"The number can be divided by three \"+str(i)+\" times\")\n"
   ]
  },
  {
   "cell_type": "code",
   "execution_count": null,
   "id": "b276a6f2-02ff-44b4-b547-74c8debcc9e0",
   "metadata": {},
   "outputs": [],
   "source": [
    "Python while loop is used to run a block code until a certain condition is met.\n",
    "\n",
    "1.A while loop evaluates the condition\n",
    "2.If the condition evaluates to True, the code inside the while loop is executed.\n",
    "3.condition is evaluated again.\n",
    "4.This process continues until the condition is False.\n",
    "5.When condition evaluates to False, the loop stops.\n",
    "\n",
    "# program to display numbers from 1 to 10\n",
    "\n",
    "# initialize the variable\n",
    "i = 1\n",
    "n = 10\n",
    "\n",
    "# while loop from i = 1 to 10\n",
    "while i <= n:\n",
    "    print(i)\n",
    "    i = i + 1"
   ]
  },
  {
   "cell_type": "code",
   "execution_count": 1,
   "id": "d731d18d-0844-499b-be89-26bb6b9204d0",
   "metadata": {},
   "outputs": [
    {
     "name": "stdin",
     "output_type": "stream",
     "text": [
      "Enter the number 5\n"
     ]
    },
    {
     "name": "stdout",
     "output_type": "stream",
     "text": [
      "# \n",
      "\n",
      "# # \n",
      "\n",
      "# # # \n",
      "\n",
      "# # # # \n",
      "\n",
      "# # # # # \n",
      "\n"
     ]
    }
   ],
   "source": [
    "num = int(input(\"Enter the number\"))\n",
    "i = 1\n",
    "while i <= num:\n",
    "    j = i\n",
    "    while j != 0:\n",
    "        print(\"#\",end=\" \")\n",
    "        j -= 1\n",
    "    i += 1\n",
    "    print(\"\\n\")\n"
   ]
  },
  {
   "cell_type": "code",
   "execution_count": 2,
   "id": "5a740885-670c-4368-923c-ceff4bd71012",
   "metadata": {},
   "outputs": [
    {
     "name": "stdin",
     "output_type": "stream",
     "text": [
      "Enter the number 5\n"
     ]
    },
    {
     "name": "stdout",
     "output_type": "stream",
     "text": [
      "# # # # # \n",
      "\n",
      "# # # # \n",
      "\n",
      "# # # \n",
      "\n",
      "# # \n",
      "\n",
      "# \n",
      "\n"
     ]
    }
   ],
   "source": [
    "num = int(input(\"Enter the number\"))\n",
    "i = 1\n",
    "while i <= num:\n",
    "    j = num-i+1\n",
    "    while j != 0:\n",
    "        print(\"#\",end=\" \")\n",
    "        j -= 1\n",
    "    i += 1\n",
    "    print(\"\\n\")\n"
   ]
  },
  {
   "cell_type": "code",
   "execution_count": null,
   "id": "12d253dd-4bf8-4b4c-8ef3-c6c08419e99d",
   "metadata": {},
   "outputs": [],
   "source": []
  }
 ],
 "metadata": {
  "kernelspec": {
   "display_name": "Python 3 (ipykernel)",
   "language": "python",
   "name": "python3"
  },
  "language_info": {
   "codemirror_mode": {
    "name": "ipython",
    "version": 3
   },
   "file_extension": ".py",
   "mimetype": "text/x-python",
   "name": "python",
   "nbconvert_exporter": "python",
   "pygments_lexer": "ipython3",
   "version": "3.10.8"
  }
 },
 "nbformat": 4,
 "nbformat_minor": 5
}
