{
 "cells": [
  {
   "cell_type": "code",
   "execution_count": null,
   "id": "bfc884bf-1ade-405b-83e0-9d9d767f7e20",
   "metadata": {},
   "outputs": [],
   "source": [
    "Guido van Rossum developed python programming language.\n"
   ]
  },
  {
   "cell_type": "code",
   "execution_count": null,
   "id": "13fa0884-d6e7-423e-846b-1cde730186bd",
   "metadata": {},
   "outputs": [],
   "source": [
    "python supports multiprogramming as well as object oriented programming."
   ]
  },
  {
   "cell_type": "code",
   "execution_count": null,
   "id": "70c2e8a9-fc42-493c-88f5-a1310b54c9aa",
   "metadata": {},
   "outputs": [],
   "source": [
    "Python is case sensitive when it deals with identifiers."
   ]
  },
  {
   "cell_type": "code",
   "execution_count": null,
   "id": "33edf38b-f86a-44d9-93aa-840323d6c254",
   "metadata": {},
   "outputs": [],
   "source": [
    "The correct extension for a python file is .py"
   ]
  },
  {
   "cell_type": "code",
   "execution_count": null,
   "id": "9702d835-c43d-4c9a-91dc-663916f95c94",
   "metadata": {},
   "outputs": [],
   "source": [
    "Python code is interpreted."
   ]
  },
  {
   "cell_type": "code",
   "execution_count": null,
   "id": "e5a63786-6ad1-40a6-afe7-d3ab9509fb06",
   "metadata": {},
   "outputs": [],
   "source": []
  },
  {
   "cell_type": "code",
   "execution_count": null,
   "id": "52504cfa-4797-43af-921d-f733af54b692",
   "metadata": {},
   "outputs": [],
   "source": [
    "'#' is used to give single line comment"
   ]
  },
  {
   "cell_type": "code",
   "execution_count": null,
   "id": "dae72a2c-b190-4fb3-a8f5-55b07cd424fc",
   "metadata": {},
   "outputs": [],
   "source": [
    "import sys\n",
    "print(sys.version)\n",
    "\n",
    "this will give us the version that we are currently working on."
   ]
  },
  {
   "cell_type": "code",
   "execution_count": null,
   "id": "73234440-2b0a-4bbd-bb97-200d5d9d8ea8",
   "metadata": {},
   "outputs": [],
   "source": [
    "Python supports the creation of anonymous functions at runtime, using a construct called lambda."
   ]
  },
  {
   "cell_type": "code",
   "execution_count": null,
   "id": "664c8172-2552-487f-ad3d-52afd7e14f56",
   "metadata": {},
   "outputs": [],
   "source": [
    "pip (“pip Install Packages”) is today the standard tool for installing Python packages and \n",
    "their dependencies in a secure manner. "
   ]
  },
  {
   "cell_type": "code",
   "execution_count": null,
   "id": "2dd6d4fa-dda8-4588-92ae-770b2604692e",
   "metadata": {},
   "outputs": [],
   "source": [
    "few built in funtions are\n",
    "1.print\n",
    "2.del\n",
    "3.abs\n",
    "4.int\n",
    "5.input\n",
    "\n",
    "etc"
   ]
  },
  {
   "cell_type": "code",
   "execution_count": null,
   "id": "9b63ba82-93b5-492d-9540-2a95e7d65d55",
   "metadata": {},
   "outputs": [],
   "source": [
    "An identifier can have a maximum length of 79 characters in Python"
   ]
  },
  {
   "cell_type": "code",
   "execution_count": null,
   "id": "621ea72a-93dc-4463-8cf8-171884fb95ff",
   "metadata": {},
   "outputs": [],
   "source": [
    "1.Presence of third-party modules \n",
    "2.Extensive support libraries(NumPy for numerical calculations, Pandas for data analytics, etc.) \n",
    "3.Open source and large active community base \n",
    "4.Versatile, Easy to read, learn and write\n",
    "5.User-friendly data structures \n",
    "6.High-level language \n",
    "7.Dynamically typed language(No need to mention data type based on the value assigned, it takes data type) \n",
    "8.Object-Oriented and Procedural  Programming language\n",
    "9.Portable and Interactive etc"
   ]
  },
  {
   "cell_type": "code",
   "execution_count": null,
   "id": "ce54daec-a0c6-46ab-b88a-553a6415ac66",
   "metadata": {},
   "outputs": [],
   "source": [
    "Memory management in Python involves a private heap containing all Python objects and data structures. \n",
    "The management of this private heap is ensured internally by the Python memory manager."
   ]
  },
  {
   "cell_type": "code",
   "execution_count": null,
   "id": "30c52a9e-86aa-460b-a3d6-d8b364a8d7f2",
   "metadata": {},
   "outputs": [],
   "source": [
    "To download Python, you need to visit www.python.org, which is the official Python website. \n",
    "Click on the Downloads tab and then select the Windows option.\n",
    "\n",
    "to set path variable:-\n",
    "1.Right click on My Computer and click on properties.\n",
    "2.Click on Advanced System settings.\n",
    "3.Click on Environment Variable tab.\n",
    "4.Click on new tab of user variables.\n",
    "5.Write path in variable name.\n",
    "6.Copy the path of Python folder.\n",
    "7.Paste path of Python in variable value. Click on Ok button: Click on Ok button:\n"
   ]
  },
  {
   "cell_type": "code",
   "execution_count": null,
   "id": "5f040757-b699-43ce-9bd3-de76dd40850f",
   "metadata": {},
   "outputs": [],
   "source": [
    "Yes indentation is very much required in python as in python the scope of a funtion or loops or condi\n",
    "is defined using indention."
   ]
  }
 ],
 "metadata": {
  "kernelspec": {
   "display_name": "Python 3 (ipykernel)",
   "language": "python",
   "name": "python3"
  },
  "language_info": {
   "codemirror_mode": {
    "name": "ipython",
    "version": 3
   },
   "file_extension": ".py",
   "mimetype": "text/x-python",
   "name": "python",
   "nbconvert_exporter": "python",
   "pygments_lexer": "ipython3",
   "version": "3.10.8"
  }
 },
 "nbformat": 4,
 "nbformat_minor": 5
}
