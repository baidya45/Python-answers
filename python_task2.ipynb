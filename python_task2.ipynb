{
 "cells": [
  {
   "cell_type": "code",
   "execution_count": 1,
   "metadata": {},
   "outputs": [],
   "source": [
    "# Q1. You are writing code for a company. The requirement of the company is that you create a python\n",
    "# function that will check whether the password entered by the user is correct or not. The function should\n",
    "# take the password as input and return the string “Valid Password” if the entered password follows the\n",
    "# below-given password guidelines else it should return “Invalid Password”.\n",
    "# Note: 1. The Password should contain at least two uppercase letters and at least two lowercase letters.\n",
    "# 2. The Password should contain at least a number and three special characters.\n",
    "# 3. The length of the password should be 10 characters long."
   ]
  },
  {
   "cell_type": "code",
   "execution_count": 13,
   "metadata": {},
   "outputs": [
    {
     "name": "stdout",
     "output_type": "stream",
     "text": [
      "2 4 3 1\n",
      "Valid Password\n"
     ]
    }
   ],
   "source": [
    "def validate(input_password):\n",
    "    uppercase_count=0\n",
    "    lowercase_count=0\n",
    "    number_count=0\n",
    "    special_count=0\n",
    "    for i in input_password:\n",
    "        if i.isupper():\n",
    "            uppercase_count+=1\n",
    "        elif i.islower():\n",
    "            lowercase_count+=1\n",
    "        elif not(i.isalpha()) and not(i.isdigit()):\n",
    "            special_count+=1\n",
    "        elif i.isdigit():\n",
    "            number_count+=1\n",
    "            \n",
    "    print(uppercase_count,lowercase_count,special_count,number_count)\n",
    "    if uppercase_count>=2 and lowercase_count>=2 and number_count>=1 and special_count>=3 and len(input_password)==10:\n",
    "        print(\"Valid Password\")\n",
    "    else:\n",
    "        print(\"Invalid Password\")\n",
    "\n",
    "\n",
    "password=\"baID@#$2na\"\n",
    "validate(password)"
   ]
  },
  {
   "cell_type": "code",
   "execution_count": null,
   "metadata": {},
   "outputs": [],
   "source": [
    "# Q2. Solve the below-given questions using at least one of the following:\n",
    "# 1. Lambda function\n",
    "# 2. Filter function\n",
    "# 3. map function\n",
    "# 4. List Comprehension\n",
    "# B Check if the string starts with a particular letter\n",
    "# B Check if the string is numeric\n",
    "# B Sort a list of tuples having fruit names and their quantity. [(\"mango\",99),(\"orange\",80), (\"grapes\", 1000)-\n",
    "# B Find the squares of numbers from 1 to 10Y\n",
    "# B Find the cube root of numbers from 1 to 10Y\n",
    "# B Check if a given number is evenY\n",
    "# B Filter odd numbers from the given list.\n",
    "# [1,2,3,4,5,6,7,8,9,10-\n",
    "# B Sort a list of integers into positive and negative integers lists.\n",
    "# [1,2,3,4,5,6,-1,-2,-3,-4,-5,0]"
   ]
  }
 ],
 "metadata": {
  "kernelspec": {
   "display_name": "base",
   "language": "python",
   "name": "python3"
  },
  "language_info": {
   "codemirror_mode": {
    "name": "ipython",
    "version": 3
   },
   "file_extension": ".py",
   "mimetype": "text/x-python",
   "name": "python",
   "nbconvert_exporter": "python",
   "pygments_lexer": "ipython3",
   "version": "3.11.7"
  }
 },
 "nbformat": 4,
 "nbformat_minor": 2
}
