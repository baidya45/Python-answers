{
 "cells": [
  {
   "cell_type": "markdown",
   "id": "981484a1-682d-4d8b-b052-ae6d63b04c99",
   "metadata": {},
   "source": [
    "1. def key word is used to create a function"
   ]
  },
  {
   "cell_type": "code",
   "execution_count": 1,
   "id": "f878b4ff-9d66-46ff-a291-20934ca95ebb",
   "metadata": {},
   "outputs": [
    {
     "data": {
      "text/plain": [
       "[1, 3, 5, 7, 9, 11, 13, 15, 17, 19, 21, 23, 25]"
      ]
     },
     "execution_count": 1,
     "metadata": {},
     "output_type": "execute_result"
    }
   ],
   "source": [
    "def odd():\n",
    "    l1=[]\n",
    "    for i in range(1,26):\n",
    "        if i%2!=0:\n",
    "            l1.append(i)\n",
    "    return l1\n",
    "\n",
    "\n",
    "odd()"
   ]
  },
  {
   "cell_type": "markdown",
   "id": "f6f0da01-2e0f-4ad9-96c4-1578d8b9ef29",
   "metadata": {},
   "source": [
    "2. if we don't know how many arguments are to be passed we use *args."
   ]
  },
  {
   "cell_type": "code",
   "execution_count": 4,
   "id": "82d4ab45-727f-447d-9a79-5bd57f05c174",
   "metadata": {},
   "outputs": [
    {
     "name": "stdout",
     "output_type": "stream",
     "text": [
      "my fav subject is python\n"
     ]
    }
   ],
   "source": [
    "def func(*args):\n",
    "    print(\"my fav subject is \"+args[2])\n",
    "          \n",
    "\n",
    "func('java','c++','python','machine learning')"
   ]
  },
  {
   "cell_type": "markdown",
   "id": "68884b5d-836b-4686-8ae9-ece42a64267c",
   "metadata": {},
   "source": [
    "if we dont know how many keyword arguments are to be passed then we use **kargs"
   ]
  },
  {
   "cell_type": "code",
   "execution_count": 13,
   "id": "e8b32b4c-647d-41c6-a2fc-e820b13da088",
   "metadata": {},
   "outputs": [
    {
     "name": "stdout",
     "output_type": "stream",
     "text": [
      "rohit is my fav cricketer\n"
     ]
    }
   ],
   "source": [
    "def fun2(**players):\n",
    "    print(players['mi'] +\" is my fav cricketer\")\n",
    "\n",
    "fun2(mi='rohit',rcb='virat')"
   ]
  },
  {
   "cell_type": "markdown",
   "id": "3bf57d88-3d6d-463c-b1f7-7e268fae3188",
   "metadata": {},
   "source": [
    "3.iterator is an object that allows us to iterate over collection of data or iterables like\n",
    "list,tuple,strings\n",
    "\n",
    "iter() method is used to initialized an iterator.\n",
    "next() method is used for iteration"
   ]
  },
  {
   "cell_type": "code",
   "execution_count": 16,
   "id": "47151a72-0ba6-43f1-a966-540b2b36b619",
   "metadata": {},
   "outputs": [
    {
     "name": "stdout",
     "output_type": "stream",
     "text": [
      "2\n",
      "4\n",
      "6\n",
      "8\n",
      "10\n"
     ]
    }
   ],
   "source": [
    "l1= [2, 4, 6, 8, 10, 12, 14, 16, 18, 20]\n",
    "i=iter(l1)\n",
    "j=5\n",
    "while j>0:\n",
    "    print(next(i))\n",
    "    j-=1"
   ]
  },
  {
   "cell_type": "markdown",
   "id": "f04eef5e-6865-428d-841e-2a7bd68c8d74",
   "metadata": {},
   "source": [
    "4.in python generator function is a type of function that returns an iterator that\n",
    "produces a sequence of values when iterated over.\n",
    "\n",
    "Generators are useful when we want to produce a large sequence of values,but we don't want to store them\n",
    "into memory"
   ]
  },
  {
   "cell_type": "code",
   "execution_count": 20,
   "id": "0c804609-6d70-4c20-b554-b5e74322d308",
   "metadata": {},
   "outputs": [
    {
     "name": "stdout",
     "output_type": "stream",
     "text": [
      "0\n",
      "1\n",
      "1\n",
      "2\n",
      "3\n",
      "5\n",
      "8\n",
      "13\n",
      "21\n",
      "34\n"
     ]
    }
   ],
   "source": [
    "def fibb(n):\n",
    "    a=0\n",
    "    b=1\n",
    "    for i in range(n):\n",
    "        yield a\n",
    "        a,b=b,a+b\n",
    "\n",
    "for i in fibb(10):\n",
    "    print(i)"
   ]
  },
  {
   "cell_type": "code",
   "execution_count": 27,
   "id": "69cbfbd5-9700-41da-9274-090879647a39",
   "metadata": {},
   "outputs": [
    {
     "name": "stdout",
     "output_type": "stream",
     "text": [
      "2\n",
      "3\n",
      "5\n",
      "7\n",
      "11\n",
      "13\n",
      "17\n",
      "19\n",
      "23\n",
      "29\n",
      "31\n",
      "37\n",
      "41\n",
      "43\n",
      "47\n",
      "53\n",
      "59\n",
      "61\n",
      "67\n",
      "71\n"
     ]
    }
   ],
   "source": [
    "import math\n",
    "def prime():\n",
    "    n=2\n",
    "    while n<1000:\n",
    "        flag=True\n",
    "        for i in range(2,int(math.sqrt(n))+1):\n",
    "            if(n%i==0):\n",
    "                flag=False\n",
    "                break\n",
    "        if flag==True:\n",
    "            yield n\n",
    "        else:\n",
    "            flag==True\n",
    "        n+=1\n",
    "        \n",
    "        \n",
    "prime1=prime()\n",
    "for i in range(1,21):\n",
    "    print(next(prime1))"
   ]
  },
  {
   "cell_type": "code",
   "execution_count": 21,
   "id": "6863d7e4-090a-4afc-b76f-c02a378d69fd",
   "metadata": {},
   "outputs": [
    {
     "name": "stdout",
     "output_type": "stream",
     "text": [
      "0\n",
      "1\n",
      "1\n",
      "2\n",
      "3\n",
      "5\n",
      "8\n",
      "13\n",
      "21\n",
      "34\n"
     ]
    }
   ],
   "source": [
    "def fun():\n",
    "    a,b=0,1\n",
    "    while True:\n",
    "        yield a\n",
    "        a,b=b,a+b\n",
    "        \n",
    "fib=fun()\n",
    "\n",
    "for i in range(10):\n",
    "    print(next(fib))"
   ]
  },
  {
   "cell_type": "code",
   "execution_count": 28,
   "id": "e42e51b8-8351-4bdc-999c-1d769d6ec83c",
   "metadata": {},
   "outputs": [
    {
     "data": {
      "text/plain": [
       "['p', 'w', 's', 'k', 'i', 'l', 'l', 's']"
      ]
     },
     "execution_count": 28,
     "metadata": {},
     "output_type": "execute_result"
    }
   ],
   "source": [
    "s1='pwskills'\n",
    "s1=iter(s1)\n",
    "l1=[var for var in s1]\n",
    "l1"
   ]
  },
  {
   "cell_type": "code",
   "execution_count": null,
   "id": "f79081aa-ee0e-440a-8bea-2057e579ea16",
   "metadata": {},
   "outputs": [],
   "source": [
    "def palin(num):\n",
    "    num = list(num)\n",
    "    i = 0\n",
    "    j = len(num) - 1\n",
    "    ans = False\n",
    "    while i < j:\n",
    "        if num[i] != num[j]:\n",
    "            ans = False\n",
    "            break\n",
    "        i += 1\n",
    "        j -= 1\n",
    "    if (i >= j):\n",
    "        ans = True\n",
    "\n",
    "    return ans\n",
    "\n",
    "\n",
    "num = input('enter the number :- ')\n",
    "ans = palin(num)\n",
    "print(ans)\n"
   ]
  },
  {
   "cell_type": "code",
   "execution_count": 29,
   "id": "f4e601b2-4035-4a17-85c9-7b6ad5286421",
   "metadata": {},
   "outputs": [
    {
     "data": {
      "text/plain": [
       "[1,\n",
       " 3,\n",
       " 5,\n",
       " 7,\n",
       " 9,\n",
       " 11,\n",
       " 13,\n",
       " 15,\n",
       " 17,\n",
       " 19,\n",
       " 21,\n",
       " 23,\n",
       " 25,\n",
       " 27,\n",
       " 29,\n",
       " 31,\n",
       " 33,\n",
       " 35,\n",
       " 37,\n",
       " 39,\n",
       " 41,\n",
       " 43,\n",
       " 45,\n",
       " 47,\n",
       " 49,\n",
       " 51,\n",
       " 53,\n",
       " 55,\n",
       " 57,\n",
       " 59,\n",
       " 61,\n",
       " 63,\n",
       " 65,\n",
       " 67,\n",
       " 69,\n",
       " 71,\n",
       " 73,\n",
       " 75,\n",
       " 77,\n",
       " 79,\n",
       " 81,\n",
       " 83,\n",
       " 85,\n",
       " 87,\n",
       " 89,\n",
       " 91,\n",
       " 93,\n",
       " 95,\n",
       " 97,\n",
       " 99]"
      ]
     },
     "execution_count": 29,
     "metadata": {},
     "output_type": "execute_result"
    }
   ],
   "source": [
    "l1=[var for var in range(101) if var%2!=0]\n",
    "l1"
   ]
  },
  {
   "cell_type": "code",
   "execution_count": null,
   "id": "1ca2e7c4-eaf8-47cb-82d4-23944e6de998",
   "metadata": {},
   "outputs": [],
   "source": []
  }
 ],
 "metadata": {
  "kernelspec": {
   "display_name": "Python 3 (ipykernel)",
   "language": "python",
   "name": "python3"
  },
  "language_info": {
   "codemirror_mode": {
    "name": "ipython",
    "version": 3
   },
   "file_extension": ".py",
   "mimetype": "text/x-python",
   "name": "python",
   "nbconvert_exporter": "python",
   "pygments_lexer": "ipython3",
   "version": "3.10.8"
  }
 },
 "nbformat": 4,
 "nbformat_minor": 5
}
