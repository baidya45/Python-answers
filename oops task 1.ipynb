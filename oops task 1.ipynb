{
 "cells": [
  {
   "cell_type": "markdown",
   "id": "0c23e53a-4f0e-4ea6-817b-7a01442bec17",
   "metadata": {},
   "source": [
    "Class:- A class in oop is a set of objects which shares common characteristics/ behavior and common properties/ attributes. It is a user-defined blueprint or prototype from which objects are created. For example, Student is a class while a particular student named Ravi is an object.\n",
    "\n",
    "Object:- An object in oop is a basic unit of Object-Oriented Programming and represents real-life entities. Objects are the instances of a class that are created to use the attributes and methods of a class"
   ]
  },
  {
   "cell_type": "code",
   "execution_count": null,
   "id": "6593585c-d1f2-4ddc-9914-658a2691ba68",
   "metadata": {},
   "outputs": [],
   "source": [
    "The four pillers of oops are polymorphism,inheritence,encapsulation,abstraction"
   ]
  },
  {
   "cell_type": "markdown",
   "id": "578209ae-1d72-4a23-82fa-c24bae12a7e8",
   "metadata": {},
   "source": [
    "The __init__ function in python is used as constructor.The task of constructors is to initialize(assign values) to the data members of the class when an object of the class is created."
   ]
  },
  {
   "cell_type": "code",
   "execution_count": 1,
   "id": "8bf21d96-e1a3-4fce-bd23-f645e0658ab8",
   "metadata": {},
   "outputs": [
    {
     "name": "stdout",
     "output_type": "stream",
     "text": [
      "Hello, my name is Baidya\n"
     ]
    }
   ],
   "source": [
    "class Student:\n",
    "\n",
    "\t# init method or constructor\n",
    "\tdef __init__(self, name):\n",
    "\t\tself.name = name\n",
    "\n",
    "\t# Sample Method\n",
    "\tdef say_hi(self):\n",
    "\t\tprint('Hello, my name is', self.name)\n",
    "\n",
    "\n",
    "p = Student('Baidya')\n",
    "p.say_hi()\n"
   ]
  },
  {
   "cell_type": "markdown",
   "id": "d616ac2f-22c7-4c02-bafe-8afe8feea497",
   "metadata": {},
   "source": [
    "It is the mechanism in Java by which one class is allowed to inherit the features(fields and methods) of another class."
   ]
  }
 ],
 "metadata": {
  "kernelspec": {
   "display_name": "Python 3 (ipykernel)",
   "language": "python",
   "name": "python3"
  },
  "language_info": {
   "codemirror_mode": {
    "name": "ipython",
    "version": 3
   },
   "file_extension": ".py",
   "mimetype": "text/x-python",
   "name": "python",
   "nbconvert_exporter": "python",
   "pygments_lexer": "ipython3",
   "version": "3.10.8"
  }
 },
 "nbformat": 4,
 "nbformat_minor": 5
}
