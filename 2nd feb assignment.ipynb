{
 "cells": [
  {
   "cell_type": "code",
   "execution_count": 11,
   "id": "bd5aa5e3-a2ed-40ae-b016-18717c793112",
   "metadata": {},
   "outputs": [
    {
     "name": "stdout",
     "output_type": "stream",
     "text": [
      "1 2 3 4 5 6 7 8 9 10 \n",
      "1 2 3 4 5 6 7 8 9 10 "
     ]
    }
   ],
   "source": [
    "# question 1:\n",
    "# The for loop is used when the number of iterations is already known.\n",
    "# example:- if we need to print 1st 10 natural numbers\n",
    "\n",
    "for i in range(1,11):\n",
    "    print(i,end=\" \")\n",
    "    \n",
    "# A \"while\" loop is used when the number of iterations is unknown. \n",
    "# The statement repeats itself till the boolean value becomes false.\n",
    "# When we need to end the loop on a condition other than the number of times, we use a while loop\n",
    "\n",
    "# the same code in while loop will be like\n",
    "\n",
    "print(\"\") #to enter a new line between the two outputs\n",
    "\n",
    "i=1\n",
    "while i<11:\n",
    "    print(i,end=\" \")\n",
    "    i+=1"
   ]
  },
  {
   "cell_type": "code",
   "execution_count": 13,
   "id": "0f81d24a-8e18-4dc2-bd58-3c71b616ed61",
   "metadata": {},
   "outputs": [
    {
     "name": "stdout",
     "output_type": "stream",
     "text": [
      "55 3628800\n"
     ]
    }
   ],
   "source": [
    "#question 2\n",
    "#sum and multiplication of 1st 10 natural numbers using for loop\n",
    "sum,mul=0,1\n",
    "for i in range (1,11):\n",
    "    sum+=i\n",
    "    mul*=i\n",
    "print(sum,mul)"
   ]
  },
  {
   "cell_type": "code",
   "execution_count": 14,
   "id": "6896fbff-4816-4c85-8555-b916c2b32aef",
   "metadata": {},
   "outputs": [
    {
     "name": "stdout",
     "output_type": "stream",
     "text": [
      "55 3628800\n"
     ]
    }
   ],
   "source": [
    "#sum and multiplication of 1st 10 natural numbers using while loop\n",
    "sum,mul,i=0,1,1\n",
    "while i<11:\n",
    "    sum+=i\n",
    "    mul*=i\n",
    "    i+=1\n",
    "print(sum,mul)\n"
   ]
  },
  {
   "cell_type": "code",
   "execution_count": 6,
   "id": "812b69d2-9c83-45be-8e1e-e26e36cf85d0",
   "metadata": {},
   "outputs": [
    {
     "name": "stdin",
     "output_type": "stream",
     "text": [
      "enter the amount of electricity used :-  310\n"
     ]
    },
    {
     "name": "stdout",
     "output_type": "stream",
     "text": [
      "2250.0\n"
     ]
    }
   ],
   "source": [
    "#question 3\n",
    "\n",
    "unit=int(input(\"enter the amount of electricity used :- \"))\n",
    "if unit<=100:\n",
    "    bill=(unit*4.5)\n",
    "    print(bill) \n",
    "    \n",
    "elif unit>100 and unit<=200:\n",
    "    bill=(100*4.5)+(unit-100)*6\n",
    "    print(bill) \n",
    "    \n",
    "elif unit>200 and unit<=300:\n",
    "    bill=100*4.5+100*6+(unit-200)*10\n",
    "    print(bill) \n",
    "    \n",
    "else:\n",
    "    bill=100*4.5+100*6+100*10+(unit-300)*20\n",
    "    print(bill) \n",
    "   "
   ]
  },
  {
   "cell_type": "code",
   "execution_count": 17,
   "id": "9fcf2c6d-7c9d-4cf6-bcef-439d692904f5",
   "metadata": {},
   "outputs": [
    {
     "name": "stdout",
     "output_type": "stream",
     "text": [
      "[2, 4, 5, 6, 8, 10, 12, 14, 15, 16, 18, 20, 22, 24, 25, 26, 28, 30, 32, 34, 35, 36, 38, 40, 42, 44, 45, 46, 48, 50, 52, 54, 55, 56, 58, 60, 62, 64, 65, 66, 68, 70, 72, 74, 75, 76, 78, 80, 82, 84, 85, 86, 88, 90, 92, 94, 95, 96, 98, 100]\n"
     ]
    }
   ],
   "source": [
    "l1=[]\n",
    "for i in range(1,101):\n",
    "    l1.append(i)\n",
    "l2=[]\n",
    "for i in l1:\n",
    "    if (i**3)%4==0 or (i**3)%5==0:\n",
    "        l2.append(i)\n",
    "print(l2)"
   ]
  },
  {
   "cell_type": "code",
   "execution_count": 19,
   "id": "fd378ba4-1354-48d4-9fd8-ce29bed46dd1",
   "metadata": {},
   "outputs": [
    {
     "name": "stdout",
     "output_type": "stream",
     "text": [
      "[2, 4, 5, 6, 8, 10, 12, 14, 15, 16, 18, 20, 22, 24, 25, 26, 28, 30, 32, 34, 35, 36, 38, 40, 42, 44, 45, 46, 48, 50, 52, 54, 55, 56, 58, 60, 62, 64, 65, 66, 68, 70, 72, 74, 75, 76, 78, 80, 82, 84, 85, 86, 88, 90, 92, 94, 95, 96, 98, 100]\n"
     ]
    }
   ],
   "source": [
    "l1=[]\n",
    "for i in range(1,101):\n",
    "    l1.append(i)\n",
    "l2=[]\n",
    "i=0\n",
    "while i<100:\n",
    "    if (l1[i]**3)%4==0 or (l1[i]**3)%5==0:\n",
    "        l2.append(l1[i])\n",
    "    i+=1\n",
    "print(l2)"
   ]
  },
  {
   "cell_type": "code",
   "execution_count": 20,
   "id": "37dd7315-dfde-421e-a469-b055c8f06bc3",
   "metadata": {},
   "outputs": [
    {
     "name": "stdout",
     "output_type": "stream",
     "text": [
      "12\n"
     ]
    }
   ],
   "source": [
    "s1=\"I want to become a date scientist\"\n",
    "count=0\n",
    "for i in s1:\n",
    "    if i=='a' or i=='e' or i=='i' or i=='o' or i=='u' or i=='A' or i=='E' or i=='I' or i=='O' or i=='U':\n",
    "        count+=1\n",
    "print(count)"
   ]
  },
  {
   "cell_type": "code",
   "execution_count": null,
   "id": "a66dbfbc-ce11-4b96-98e2-08322b7cea5b",
   "metadata": {},
   "outputs": [],
   "source": []
  }
 ],
 "metadata": {
  "kernelspec": {
   "display_name": "Python 3 (ipykernel)",
   "language": "python",
   "name": "python3"
  },
  "language_info": {
   "codemirror_mode": {
    "name": "ipython",
    "version": 3
   },
   "file_extension": ".py",
   "mimetype": "text/x-python",
   "name": "python",
   "nbconvert_exporter": "python",
   "pygments_lexer": "ipython3",
   "version": "3.10.8"
  }
 },
 "nbformat": 4,
 "nbformat_minor": 5
}
